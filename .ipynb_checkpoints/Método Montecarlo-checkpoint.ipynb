{
 "cells": [
  {
   "cell_type": "markdown",
   "metadata": {},
   "source": [
    "# Método Montecarlo\n",
    "\n",
    "Damián Alejandro Biaggio (dbiaggio@uade.edu.ar)\n",
    "Nicolás Alberto Monzón (nimonzon@uade.edu.ar)\n",
    "\n",
    "Departamento de Matemática, Universidad Argentina De la Empresa.\n",
    "\n",
    "Trabajo Práctico Obligatorio - Modelado y Simulación"
   ]
  },
  {
   "cell_type": "code",
   "execution_count": 2,
   "metadata": {},
   "outputs": [],
   "source": [
    "import numpy as np\n",
    "import scipy as sp\n",
    "import scipy.integrate as integrate\n",
    "\n",
    "from numpy import sin, cos, tan, exp, log, cosh, sinh, sqrt, pi, piecewise\n",
    "\n",
    "import matplotlib.pyplot as plt\n",
    "plt.rcParams.update({'font.size': 12})\n",
    "\n",
    "import ipywidgets as widgets\n",
    "import parser\n",
    "\n",
    "import matplotlib.pyplot as plt\n",
    "\n",
    "from random import random\n"
   ]
  },
  {
   "cell_type": "markdown",
   "metadata": {},
   "source": [
    "//TODO EXPLICACION\n",
    "\n",
    "$$\\int_0^1 \\! x^2 \\, dx = \\frac{1}{3}$$"
   ]
  },
  {
   "cell_type": "code",
   "execution_count": 3,
   "metadata": {},
   "outputs": [
    {
     "name": "stdout",
     "output_type": "stream",
     "text": [
      "3.116\n"
     ]
    },
    {
     "name": "stderr",
     "output_type": "stream",
     "text": [
      "C:\\ProgramData\\Anaconda3\\lib\\site-packages\\ipykernel_launcher.py:27: UserWarning: Matplotlib is currently using module://ipykernel.pylab.backend_inline, which is a non-GUI backend, so cannot show the figure.\n"
     ]
    },
    {
     "data": {
      "image/png": "[encoded data removed]",
      "text/plain": [
       "<Figure size 432x288 with 1 Axes>"
      ]
     },
     "metadata": {
      "needs_background": "light"
     },
     "output_type": "display_data"
    }
   ],
   "source": [
    "def graficar_approx_montecarlo(f, nmax):\n",
    "    inside = 0\n",
    "\n",
    "    x_inside = []\n",
    "    y_inside =  []\n",
    "    x_outside = []\n",
    "    y_outside = []\n",
    "\n",
    "    for _ in range(nmax):\n",
    "        x_random = random()\n",
    "        y_random = random()\n",
    "        y = f(x)\n",
    "        if y_random <= y:\n",
    "            inside += 1\n",
    "            x_inside.append(x_random)\n",
    "            y_inside.append(y_random)\n",
    "        else:\n",
    "            x_outside.append(x_random)\n",
    "            y_outside.append(y_random)\n",
    "\n",
    "    totalArea = inside/nmax\n",
    "\n",
    "    fig, ax = plt.subplots()\n",
    "    ax.set_aspect('equal')\n",
    "    ax.scatter(x_inside, y_inside, color='g', marker='s')\n",
    "    ax.scatter(x_outside, y_outside, color='r', marker='s')\n",
    "    fig.show()\n",
    "\n",
    "\n",
    "def preparar_approx_montecarlo(ftext, nmax):\n",
    "    fcode = parser.expr(ftext).compile()\n",
    "    f = lambda t: eval(fcode)\n",
    "    graficar_approx_montecarlo(f, nmax)\n",
    "\n",
    "\n"
   ]
  }
 ],
 "metadata": {
  "kernelspec": {
   "display_name": "Python 3",
   "language": "python",
   "name": "python3"
  },
  "language_info": {
   "codemirror_mode": {
    "name": "ipython",
    "version": 3
   },
   "file_extension": ".py",
   "mimetype": "text/x-python",
   "name": "python",
   "nbconvert_exporter": "python",
   "pygments_lexer": "ipython3",
   "version": "3.7.6"
  }
 },
 "nbformat": 4,
 "nbformat_minor": 2
}
