{
 "cells": [
  {
   "cell_type": "markdown",
   "metadata": {},
   "source": [
    "# Método Montecarlo\n",
    "\n",
    "Damián Alejandro Biaggio (dbiaggio@uade.edu.ar)\n",
    "Nicolás Alberto Monzón (nimonzon@uade.edu.ar)\n",
    "\n",
    "Departamento de Matemática, Universidad Argentina De la Empresa.\n",
    "\n",
    "Trabajo Práctico Obligatorio - Modelado y Simulación"
   ]
  },
  {
   "cell_type": "code",
   "execution_count": 4,
   "metadata": {},
   "outputs": [],
   "source": [
    "import numpy as np\n",
    "import scipy as sp\n",
    "import scipy.integrate as integrate\n",
    "\n",
    "from numpy import sin, cos, tan, exp, log, cosh, sinh, sqrt, pi, piecewise\n",
    "\n",
    "import matplotlib.pyplot as plt\n",
    "plt.rcParams.update({'font.size': 12})\n",
    "\n",
    "import ipywidgets as widgets\n",
    "import parser\n",
    "\n",
    "import matplotlib.pyplot as plt\n",
    "\n",
    "from random import random\n"
   ]
  },
  {
   "cell_type": "markdown",
   "metadata": {},
   "source": [
    "//TODO EXPLICACION\n",
    "\n",
    "$$\\int_0^1 \\! x^2 \\, dx = \\frac{1}{3}$$"
   ]
  },
  {
   "cell_type": "code",
   "execution_count": 5,
   "metadata": {},
   "outputs": [],
   "source": [
    "def graficar_approx_montecarlo(f, nmax):\n",
    "    inside = 0\n",
    "\n",
    "    x_inside = []\n",
    "    y_inside =  []\n",
    "    x_outside = []\n",
    "    y_outside = []\n",
    "\n",
    "    for _ in range(nmax):\n",
    "        x_random = random()\n",
    "        y_random = random()\n",
    "        y = f(x)\n",
    "        if y_random <= y:\n",
    "            inside += 1\n",
    "            x_inside.append(x_random)\n",
    "            y_inside.append(y_random)\n",
    "        else:\n",
    "            x_outside.append(x_random)\n",
    "            y_outside.append(y_random)\n",
    "\n",
    "    totalArea = inside/nmax\n",
    "\n",
    "    fig, ax = plt.subplots()\n",
    "    ax.set_aspect('equal')\n",
    "    ax.scatter(x_inside, y_inside, color='g', marker='s')\n",
    "    ax.scatter(x_outside, y_outside, color='r', marker='s')\n",
    "    fig.show()\n",
    "\n",
    "\n",
    "def preparar_approx_montecarlo(ftext, nmax):\n",
    "    fcode = parser.expr(ftext).compile()\n",
    "    f = lambda t: eval(fcode)\n",
    "    graficar_approx_montecarlo(f, nmax)\n",
    "\n",
    "\n"
   ]
  },
  {
   "cell_type": "code",
   "execution_count": 7,
   "metadata": {},
   "outputs": [
    {
     "data": {
      "application/vnd.jupyter.widget-view+json": {
       "model_id": "fbeaa1fd76cd42ac8377ab8c507a3932",
       "version_major": 2,
       "version_minor": 0
      },
      "text/plain": [
       "interactive(children=(Textarea(value='t', description='Función'), IntSlider(value=4000, description='n máximo'…"
      ]
     },
     "metadata": {},
     "output_type": "display_data"
    },
    {
     "data": {
      "text/plain": [
       "<function __main__.preparar_approx_montecarlo(ftext, nmax)>"
      ]
     },
     "execution_count": 7,
     "metadata": {},
     "output_type": "execute_result"
    }
   ],
   "source": [
    "widgets.interact(preparar_approx_montecarlo,\n",
    "                 ftext=widgets.Textarea(value='t', description='Función'),\n",
    "                 nmax=widgets.IntSlider(min=4000, max=8000, step=100, value=4000, description='n máximo'))"
   ]
  },
  {
   "cell_type": "code",
   "execution_count": null,
   "metadata": {},
   "outputs": [],
   "source": []
  }
 ],
 "metadata": {
  "kernelspec": {
   "display_name": "Python 3",
   "language": "python",
   "name": "python3"
  },
  "language_info": {
   "codemirror_mode": {
    "name": "ipython",
    "version": 3
   },
   "file_extension": ".py",
   "mimetype": "text/x-python",
   "name": "python",
   "nbconvert_exporter": "python",
   "pygments_lexer": "ipython3",
   "version": "3.7.6"
  }
 },
 "nbformat": 4,
 "nbformat_minor": 2
}
