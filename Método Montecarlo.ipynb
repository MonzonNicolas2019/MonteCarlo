{
 "cells": [
  {
   "cell_type": "markdown",
   "metadata": {},
   "source": [
    "# Cálculo de Área: Método Montecarlo\n",
    "\n",
    "Damián Alejandro Biaggio (dbiaggio@uade.edu.ar)\n",
    "Nicolás Alberto Monzón (nimonzon@uade.edu.ar)\n",
    "\n",
    "Facultad de Ingeniería y Ciencias Exactas - Universidad Argentina De la Empresa.\n",
    "\n",
    "### Trabajo Práctico Obligatorio - Modelado y Simulación"
   ]
  },
  {
   "cell_type": "markdown",
   "metadata": {},
   "source": [
    "Los métodos de Montecarlo abarcan una colección de técnicas que permiten obtener soluciones de problemas matemáticos o físicos por medio de pruebas aleatorias repetidas. En la práctica, las pruebas aleatorias se sustituyen por resultados de ciertos cálculos realizados con números aleatorios.\n",
    "\n",
    "En este breve aplicativo, nosotros aplicaremos un método de montecarlo para calcular el área de una superficie. Para esto es necesario, una vez definida la función y entre que valores se va medir, marcar un cuadrado cuya área es conocida alrededor de la superficie. Luego procedemos a \"disparar\" puntos dentro de éste rectángulo, el valor del área será el resultado de calcular el porcentaje de puntos que se dispararon dentro de la figura (teniendo en cuenta el total de puntos disparados), y luego multiplicarlo por el área del cuadrado antes definido."
   ]
  },
  {
   "cell_type": "code",
   "execution_count": 17,
   "metadata": {},
   "outputs": [],
   "source": [
    "import numpy as np\n",
    "import scipy as sp\n",
    "import scipy.integrate as integrate\n",
    "from scipy.integrate import quad\n",
    "\n",
    "from numpy import sin, cos, tan, exp, log, cosh, sinh, sqrt, pi, piecewise\n",
    "\n",
    "import matplotlib.pyplot as plt\n",
    "plt.rcParams.update({'font.size': 12})\n",
    "\n",
    "import ipywidgets as widgets\n",
    "import parser\n",
    "\n",
    "from random import random\n",
    "\n",
    "def graficar_approx_montecarlo(f, nmax, a, b):\n",
    "    inside = 0\n",
    "\n",
    "    x_inside = []\n",
    "    y_inside =  []\n",
    "    x_outside = []\n",
    "    y_outside = []\n",
    "\n",
    "    for _ in range(nmax): #Función para disparar y calcular area con disparos.\n",
    "        x_random = random() * a\n",
    "        y_random = random() * b\n",
    "        y = f(x_random)\n",
    "        if y_random <= y:\n",
    "            inside += 1\n",
    "            x_inside.append(x_random)\n",
    "            y_inside.append(y_random)\n",
    "        else:\n",
    "            x_outside.append(x_random)\n",
    "            y_outside.append(y_random)\n",
    "\n",
    "    totalArea = inside/nmax #Porcentaje de figura respecto a la caja\n",
    "\n",
    "    fig, ax = plt.subplots(nrows=1, ncols=1, figsize=(15,15))\n",
    "    ax.set_aspect('equal')\n",
    "    ax.scatter(x_inside, y_inside, color='g', marker='s')\n",
    "    ax.scatter(x_outside, y_outside, color='r', marker='s')\n",
    "    z = np.linspace(0,a,1000)\n",
    "    ax.plot(z,f(z))\n",
    "    fig.tight_layout()\n",
    "    #fig.show()\n",
    "    print(\"Disparos Realizados: \", nmax)\n",
    "    print(\"Area aproximada: \", a*b*totalArea)\n",
    "    print(\"Area real: \", quad(f,0,a))\n",
    "    \n",
    "\n",
    "def preparar_approx_montecarlo(ftext, nmax, a, b): #Graficador\n",
    "    fcode = parser.expr(ftext).compile()\n",
    "    f = lambda t: eval(fcode)\n",
    "    graficar_approx_montecarlo(f, nmax, a, b)\n",
    "    \n",
    "def primer_ej(nmax):\n",
    "    fcode = parser.expr('t**2').compile()\n",
    "    f = lambda t: eval(fcode)\n",
    "    graficar_approx_montecarlo(f, nmax, 1, 1)\n",
    "    \n",
    "def segundo_ej(nmax):\n",
    "    fcode = parser.expr('cos(t) + 1').compile()\n",
    "    f = lambda t: eval(fcode)\n",
    "    graficar_approx_montecarlo(f, nmax, 2, 2)\n",
    "    \n",
    "def tercer_ej(nmax):\n",
    "    fcode = parser.expr('sqrt(1 - (t-1)**2)').compile()\n",
    "    f = lambda t: eval(fcode)\n",
    "    graficar_approx_montecarlo(f, nmax, 2, 1)\n",
    "\n",
    "def pi_ej(nmax):\n",
    "    fcode = parser.expr('cos(t) + 1').compile()\n",
    "    f = lambda t: eval(fcode)\n",
    "    graficar_approx_montecarlo(f, nmax, 2, 2)\n",
    "\n",
    "\n"
   ]
  },
  {
   "cell_type": "markdown",
   "metadata": {},
   "source": [
    "## Primer Ejemplo\n",
    "\n",
    "Calcularemos el área de la siguiente función:\n",
    "\n",
    "$$\\int_0^1 \\! x^2 \\, dx = \\frac{1}{3}$$\n",
    "\n",
    "A continuación, el gráfico. Cómo se puede ver se realizaron 500 disparos, los que fueron disparados dentro de la función se colocan con color verde, mientras que aquellos que se dispararon afuera se indican con el color rojo.\n",
    "Además indicamos  el área real (junto con su error de cálculo) y el área aproximada.\n",
    "\n",
    "Debido a que el área calculada se basa en la evaluación de los disparos realizados, podemos notar que la precisión de la medición va a estar ligado a la cantidad de disparos realizados. A mayor cantidad de disparos, más precisión en el cálculo. Para verlo mejor podés mover el Slider que controla la cantidad de disparos realizados.\n",
    "\n",
    "\n"
   ]
  },
  {
   "cell_type": "code",
   "execution_count": 18,
   "metadata": {},
   "outputs": [
    {
     "data": {
      "application/vnd.jupyter.widget-view+json": {
       "model_id": "72273694409940969072bafe29f1af3d",
       "version_major": 2,
       "version_minor": 0
      },
      "text/plain": [
       "interactive(children=(IntSlider(value=500, description='n máximo', max=8000, min=100, step=300), Output()), _d…"
      ]
     },
     "metadata": {},
     "output_type": "display_data"
    },
    {
     "data": {
      "text/plain": [
       "<function __main__.primer_ej(nmax)>"
      ]
     },
     "execution_count": 18,
     "metadata": {},
     "output_type": "execute_result"
    }
   ],
   "source": [
    "widgets.interact(primer_ej,nmax=widgets.IntSlider(min=100, max=8000, step=300, value=500, description='n máximo'))"
   ]
  },
  {
   "cell_type": "markdown",
   "metadata": {},
   "source": [
    "## Segundo ejemplo\n",
    "\n",
    "$$\\cos t + 1$$"
   ]
  },
  {
   "cell_type": "code",
   "execution_count": 19,
   "metadata": {
    "scrolled": false
   },
   "outputs": [
    {
     "data": {
      "application/vnd.jupyter.widget-view+json": {
       "model_id": "57d6d0bb087e4da4b21196a294c0adc2",
       "version_major": 2,
       "version_minor": 0
      },
      "text/plain": [
       "interactive(children=(IntSlider(value=500, description='n máximo', max=8000, min=100, step=300), Output()), _d…"
      ]
     },
     "metadata": {},
     "output_type": "display_data"
    },
    {
     "data": {
      "text/plain": [
       "<function __main__.segundo_ej(nmax)>"
      ]
     },
     "execution_count": 19,
     "metadata": {},
     "output_type": "execute_result"
    }
   ],
   "source": [
    "widgets.interact(segundo_ej,nmax=widgets.IntSlider(min=100, max=8000, step=300, value=500, description='n máximo'))"
   ]
  },
  {
   "cell_type": "markdown",
   "metadata": {},
   "source": [
    "## Tercer Ejemplo\n",
    "\n",
    "Calculando el área de medio círculo."
   ]
  },
  {
   "cell_type": "code",
   "execution_count": 20,
   "metadata": {},
   "outputs": [
    {
     "data": {
      "application/vnd.jupyter.widget-view+json": {
       "model_id": "30f5ea2c137f4b07884b89e4347d0e4e",
       "version_major": 2,
       "version_minor": 0
      },
      "text/plain": [
       "interactive(children=(IntSlider(value=500, description='n máximo', max=8000, min=100, step=300), Output()), _d…"
      ]
     },
     "metadata": {},
     "output_type": "display_data"
    },
    {
     "data": {
      "text/plain": [
       "<function __main__.tercer_ej(nmax)>"
      ]
     },
     "execution_count": 20,
     "metadata": {},
     "output_type": "execute_result"
    }
   ],
   "source": [
    "widgets.interact(tercer_ej,nmax=widgets.IntSlider(min=100, max=8000, step=300, value=500, description='n máximo'))"
   ]
  },
  {
   "cell_type": "markdown",
   "metadata": {},
   "source": [
    "## Cuarto Ejemplo\n",
    "\n",
    "Calculado pi."
   ]
  },
  {
   "cell_type": "code",
   "execution_count": 21,
   "metadata": {},
   "outputs": [],
   "source": [
    "def graficar_approx_montecarlo_and_calculate_pi(n):\n",
    "    \n",
    "    inside = 0\n",
    "    x_inside = []\n",
    "    y_inside =  []\n",
    "    x_outside = []\n",
    "    y_outside = []\n",
    "\n",
    "    for _ in range(n):\n",
    "        x = random()*2\n",
    "        y = random()*2\n",
    "        if (x-1)**2+(y-1)**2 <= 1:\n",
    "            inside += 1\n",
    "            x_inside.append(x)\n",
    "            y_inside.append(y)\n",
    "        else:\n",
    "            x_outside.append(x)\n",
    "            y_outside.append(y)\n",
    "\n",
    "    totalArea = inside/n #Porcentaje de figura respecto a la caja\n",
    "    pi = 4*totalArea\n",
    "    \n",
    "    fig, ax = plt.subplots(nrows=1, ncols=1, figsize=(15,10))\n",
    "    ax.set_aspect('equal')\n",
    "    ax.scatter(x_inside, y_inside, color='g', marker='s')\n",
    "    ax.scatter(x_outside, y_outside, color='r', marker='s')\n",
    "    \n",
    "    fcode = parser.expr('sqrt(1-(t-1)**2)+1').compile()\n",
    "    f = lambda t: eval(fcode)\n",
    "    z = np.linspace(0,2,1000)\n",
    "    ax.plot(z,f(z))\n",
    "    \n",
    "    fcode = parser.expr('-sqrt(1-(t-1)**2)+1').compile()\n",
    "    f = lambda t: eval(fcode)\n",
    "    z = np.linspace(0,2,1000)\n",
    "    ax.plot(z,f(z))\n",
    "    \n",
    "    fig.tight_layout()\n",
    "    print(\"Pi aproximado: \", pi)\n",
    "    print(\"Cantidad de disparos realizados \",n)"
   ]
  },
  {
   "cell_type": "code",
   "execution_count": 22,
   "metadata": {},
   "outputs": [
    {
     "data": {
      "application/vnd.jupyter.widget-view+json": {
       "model_id": "40d44c1f96834579a831725d74bdade9",
       "version_major": 2,
       "version_minor": 0
      },
      "text/plain": [
       "interactive(children=(IntSlider(value=1000, description='n máximo', max=8000, min=100, step=300), Output()), _…"
      ]
     },
     "metadata": {},
     "output_type": "display_data"
    },
    {
     "data": {
      "text/plain": [
       "<function __main__.graficar_approx_montecarlo_and_calculate_pi(n)>"
      ]
     },
     "execution_count": 22,
     "metadata": {},
     "output_type": "execute_result"
    }
   ],
   "source": [
    "widgets.interact(graficar_approx_montecarlo_and_calculate_pi,n=widgets.IntSlider(min=100, max=8000, step=300, value=1000, description='n máximo'))"
   ]
  },
  {
   "cell_type": "markdown",
   "metadata": {},
   "source": [
    "## Libre\n",
    "\n",
    "A continuación, un aplicativo para personalizar el proceso a gusto.\n",
    "\n",
    "-> Ingresar función a calcular\n",
    "\n",
    "-> Deslizar el Slider para indicar la cantidad de disparos.\n",
    "\n",
    "-> A y B corresponden a el largo y la altura respectivamente de la caja inicial en la cual se va a realizar el cálculo"
   ]
  },
  {
   "cell_type": "code",
   "execution_count": 23,
   "metadata": {
    "scrolled": false
   },
   "outputs": [
    {
     "data": {
      "application/vnd.jupyter.widget-view+json": {
       "model_id": "a86c661487d24863aafaa93adaf8666f",
       "version_major": 2,
       "version_minor": 0
      },
      "text/plain": [
       "interactive(children=(Textarea(value='t**2', description='Función'), IntSlider(value=100, description='n máxim…"
      ]
     },
     "metadata": {},
     "output_type": "display_data"
    },
    {
     "data": {
      "text/plain": [
       "<function __main__.preparar_approx_montecarlo(ftext, nmax, a, b)>"
      ]
     },
     "execution_count": 23,
     "metadata": {},
     "output_type": "execute_result"
    }
   ],
   "source": [
    "widgets.interact(preparar_approx_montecarlo,\n",
    "                 ftext=widgets.Textarea(value='t**2', description='Función'),\n",
    "                 nmax=widgets.IntSlider(min=100, max=8000, step=200, value=100, description='n máximo'),\n",
    "                 a=widgets.IntSlider(min=1, max=25, step=2, value=1, description='A largo'),\n",
    "                 b=widgets.IntSlider(min=1, max=25, step=2, value=1, description='B altura'))"
   ]
  },
  {
   "cell_type": "markdown",
   "metadata": {},
   "source": [
    "# Esperamos sea de utilidad para entender el método.\n",
    "\n",
    "# Un saludo, Damián y Nicolás."
   ]
  }
 ],
 "metadata": {
  "kernelspec": {
   "display_name": "Python 3",
   "language": "python",
   "name": "python3"
  },
  "language_info": {
   "codemirror_mode": {
    "name": "ipython",
    "version": 3
   },
   "file_extension": ".py",
   "mimetype": "text/x-python",
   "name": "python",
   "nbconvert_exporter": "python",
   "pygments_lexer": "ipython3",
   "version": "3.7.6"
  }
 },
 "nbformat": 4,
 "nbformat_minor": 2
}
